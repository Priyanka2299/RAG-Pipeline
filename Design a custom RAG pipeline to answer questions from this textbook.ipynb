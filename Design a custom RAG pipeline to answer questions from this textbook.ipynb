{
 "cells": [
  {
   "cell_type": "markdown",
   "id": "71f31800",
   "metadata": {},
   "source": [
    "#### Listing down the procedure for this approach:\n",
    "\n",
    "1. Load: Load the data, in this case a pdf through PyPDFLoader\n",
    "2. Split into Chunks: PDf document is splitted into short chunks\n",
    "3. Embed: Each chunks of section is embedded with the OpenAI API\n",
    "4. Save: Embeddings are saved "
   ]
  },
  {
   "cell_type": "markdown",
   "id": "f1198cb8",
   "metadata": {},
   "source": [
    "#### Method 1: With using Langchains"
   ]
  },
  {
   "cell_type": "code",
   "execution_count": null,
   "id": "bf7bd3ec",
   "metadata": {},
   "outputs": [],
   "source": [
    "from langchain.document_loaders import PyPDFLoader\n",
    "from langchain.indexes import VectorstoreIndexCreator\n",
    "from openai import OpenAI\n",
    "from langchain_text_splitters import CharacterTextSplitter\n",
    "import os\n",
    "from langchain.embeddings.openai import OpenAIEmbeddings\n",
    "from langchain_community.vectorstores import Chroma\n",
    "\n",
    "\n",
    "loader = PyPDFLoader(\"ConceptsofBiology-WEB.pdf\")\n",
    "\n",
    "index = VectorstoreIndexCreator(\n",
    "    text_splitter=CharacterTextSplitter(chunk_size=1000, chunk_overlap=0),\n",
    "    embedding=OpenAIEmbeddings(),\n",
    "    vectorstore_cls=Chroma\n",
    ").from_loaders([loader])\n",
    "\n",
    "query = \"The smallest unit of biological structure that meets the functional requirements of “living” is the?\"\n",
    "index.query(llm=OpenAI(), question=query, chain_type=\"stuff\")"
   ]
  },
  {
   "cell_type": "markdown",
   "id": "47b1e644",
   "metadata": {},
   "source": [
    "#### Method 2: Without using Langchains"
   ]
  },
  {
   "cell_type": "code",
   "execution_count": null,
   "id": "8d5394d6",
   "metadata": {},
   "outputs": [],
   "source": [
    "import fitz\n",
    "import ast \n",
    "from openai import OpenAI\n",
    "import pandas as pd  \n",
    "import tiktoken  \n",
    "from scipy import spatial \n",
    "\n",
    "\n",
    "input_file = r\"ConceptsofBiology-WEB.pdf\"\n",
    "\n",
    "file_handle = fitz.open(input_file)\n",
    " \n",
    "lst = []\n",
    "i = 17\n",
    "while i < 38:\n",
    "    page = file_handle[i]\n",
    "    i = i+1\n",
    "    lst.append(i)\n",
    "print(lst) \n",
    "\n",
    "text = \"\" \n",
    "for i in lst: \n",
    "    page = file_handle[i]   \n",
    "    text+=page.get_text() \n",
    "print(text) "
   ]
  },
  {
   "cell_type": "code",
   "execution_count": null,
   "id": "434ca50e",
   "metadata": {},
   "outputs": [],
   "source": [
    "# split the documents into chunks\n",
    "K = 1000\n",
    " \n",
    "chnk_len = len(text) // K\n",
    " \n",
    "res = []\n",
    "for idx in range(0, len(text), chnk_len):\n",
    "     \n",
    "    # appending sliced string\n",
    "    res.append(text[idx : idx + chnk_len])\n",
    "\n",
    "print(\"The K chunked list : \" + str(res))"
   ]
  },
  {
   "cell_type": "code",
   "execution_count": null,
   "id": "44f0a35d",
   "metadata": {},
   "outputs": [],
   "source": [
    "EMBEDDING_MODEL = \"text-embedding-ada-002\"\n",
    "GPT_MODEL = \"gpt-3.5-turbo\"\n",
    "\n",
    "client = OpenAI(api_key=os.environ.get(\"OPENAI_API_KEY\", \"OpenAI API key\"))\n",
    "\n",
    "query = f\"\"\"Use the text content below to answer the subsequent question. If the answer cannot be found, write \"I don't know.\"\n",
    "\n",
    "text:\n",
    "\\\"\\\"\\\"\n",
    "{text}\n",
    "\\\"\\\"\\\"\n",
    "\n",
    "Question: The smallest unit of biological structure that meets the functional requirements of “living” is the?\"\"\"\n",
    "\n",
    "response = client.chat.completions.create(\n",
    "    messages=[\n",
    "        {'role': 'system', 'content': 'You answer questions about the smallest unit of biological structure.'},\n",
    "        {'role': 'user', 'content': query},\n",
    "    ],\n",
    "    model=GPT_MODEL,\n",
    "    temperature=0,\n",
    ")\n",
    "print(response.choices[0].message.content)                                                                     "
   ]
  },
  {
   "cell_type": "code",
   "execution_count": null,
   "id": "8701ff08",
   "metadata": {},
   "outputs": [],
   "source": [
    "ask('A suggested and testable explanation for an event is called a ?', model=\"gpt-4\")"
   ]
  },
  {
   "cell_type": "code",
   "execution_count": null,
   "id": "8f1a06c2",
   "metadata": {},
   "outputs": [],
   "source": []
  },
  {
   "cell_type": "code",
   "execution_count": null,
   "id": "b16dec16",
   "metadata": {},
   "outputs": [],
   "source": []
  }
 ],
 "metadata": {
  "kernelspec": {
   "display_name": "Python 3",
   "language": "python",
   "name": "python3"
  },
  "language_info": {
   "codemirror_mode": {
    "name": "ipython",
    "version": 3
   },
   "file_extension": ".py",
   "mimetype": "text/x-python",
   "name": "python",
   "nbconvert_exporter": "python",
   "pygments_lexer": "ipython3",
   "version": "3.8.8"
  }
 },
 "nbformat": 4,
 "nbformat_minor": 5
}
